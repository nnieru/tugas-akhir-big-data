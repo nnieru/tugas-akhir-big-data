{
  "cells": [
    {
      "cell_type": "markdown",
      "metadata": {
        "id": "TLtENNietWXN"
      },
      "source": [
        "# Apache Spark Installation"
      ]
    },
    {
      "cell_type": "code",
      "execution_count": 1,
      "metadata": {},
      "outputs": [
        {
          "data": {
            "text/plain": [
              "'c:\\\\Users\\\\natha\\\\miniconda3\\\\envs\\\\myenv\\\\lib\\\\site-packages\\\\pyspark'"
            ]
          },
          "execution_count": 1,
          "metadata": {},
          "output_type": "execute_result"
        }
      ],
      "source": [
        "import findspark\n",
        "findspark.init()\n",
        "findspark.find()"
      ]
    },
    {
      "cell_type": "markdown",
      "metadata": {
        "id": "9LBxUJVztq9k"
      },
      "source": [
        "# Project"
      ]
    },
    {
      "cell_type": "code",
      "execution_count": 2,
      "metadata": {
        "id": "T5v8Dn2xtl8O"
      },
      "outputs": [],
      "source": [
        "from pyspark.sql import SparkSession\n",
        "\n",
        "spark = SparkSession.builder \\\n",
        "    .appName(\"final-proj\") \\\n",
        "    .getOrCreate()"
      ]
    },
    {
      "cell_type": "code",
      "execution_count": 3,
      "metadata": {
        "id": "AyXZD355uetP"
      },
      "outputs": [],
      "source": [
        "# constant\n",
        "earthquake_catalogue_path = \"datasource\\katalog_gempa.csv\"\n",
        "bps_path = \"datasource/bps_2022.csv\""
      ]
    },
    {
      "cell_type": "code",
      "execution_count": 4,
      "metadata": {
        "colab": {
          "base_uri": "https://localhost:8080/"
        },
        "id": "dQtJeaJKuwN6",
        "outputId": "94861e84-7808-4118-911d-e9b8ed68e021"
      },
      "outputs": [
        {
          "name": "stdout",
          "output_type": "stream",
          "text": [
            "+----------+------------+-----+------+-----+---+--------------------+-------+----+-----+-------+----+-----+\n",
            "|       tgl|          ot|  lat|   lon|depth|mag|              remark|strike1|dip1|rake1|strike2|dip2|rake2|\n",
            "+----------+------------+-----+------+-----+---+--------------------+-------+----+-----+-------+----+-----+\n",
            "|2008/11/01|21:02:43.058|-9.18|119.06|   10|4.9|Sumba Region - In...|   null|null| null|   null|null| null|\n",
            "|2008/11/01|20:58:50.248|-6.55|129.64|   10|4.6|           Banda Sea|   null|null| null|   null|null| null|\n",
            "|2008/11/01|17:43:12.941|-7.01|106.63|  121|3.7|    Java - Indonesia|   null|null| null|   null|null| null|\n",
            "|2008/11/01|16:24:14.755|-3.30|127.85|   10|3.2|   Seram - Indonesia|   null|null| null|   null|null| null|\n",
            "|2008/11/01|16:20:37.327|-6.41|129.54|   70|4.3|           Banda Sea|   null|null| null|   null|null| null|\n",
            "|2008/11/01|14:47:00.029|-7.37|105.31|   18|3.3|    Java - Indonesia|   null|null| null|   null|null| null|\n",
            "|2008/11/01|13:04:38.742| 0.10| 98.55|   12|4.7|Northern Sumatra ...|   null|null| null|   null|null| null|\n",
            "|2008/11/01|10:23:51.646|-7.07|129.67|  135|4.8|           Banda Sea|   null|null| null|   null|null| null|\n",
            "|2008/11/01|09:50:32.503|-3.32|128.02|   10|2.3|   Seram - Indonesia|   null|null| null|   null|null| null|\n",
            "|2008/11/01|06:50:52.220|-4.43|127.45|   10|3.2|           Banda Sea|   null|null| null|   null|null| null|\n",
            "+----------+------------+-----+------+-----+---+--------------------+-------+----+-----+-------+----+-----+\n",
            "only showing top 10 rows\n",
            "\n"
          ]
        }
      ],
      "source": [
        "# load earthquake data\n",
        "earthquake_data = spark.read.csv(earthquake_catalogue_path, header=True)\n",
        "earthquake_data.show(10)"
      ]
    },
    {
      "cell_type": "code",
      "execution_count": 5,
      "metadata": {
        "colab": {
          "base_uri": "https://localhost:8080/"
        },
        "id": "GyXXueEwu11n",
        "outputId": "33efbb39-b13d-4731-8a48-c31378d4a606"
      },
      "outputs": [
        {
          "name": "stdout",
          "output_type": "stream",
          "text": [
            "+--------------------+---------------+-----------------------------------+-------------------+---------------------------------+----------------------------+\n",
            "|            Provinsi|Jumlah Penduduk|Laju Pertumbuhan Penduduk per Tahun|Persentase Penduduk|Kepadatan Penduduk per km persegi|Rasio Jenis Kelamin Penduduk|\n",
            "+--------------------+---------------+-----------------------------------+-------------------+---------------------------------+----------------------------+\n",
            "|                Aceh|         5407.9|                               1.43|               1.96|                               95|                       100.9|\n",
            "|      Sumatera Utara|        15115.2|                               1.21|               5.48|                              209|                       100.7|\n",
            "|      Sumatera Barat|         5640.6|                               1.09|               2.05|                              134|                       101.5|\n",
            "|                Riau|         6614.4|                               1.95|                2.4|                               74|                       104.7|\n",
            "|               Jambi|         3631.1|                               1.33|               1.32|                               74|                       103.8|\n",
            "|    Sumatera Selatan|           8657|                               1.27|               3.14|                              100|                       103.9|\n",
            "|            Bengkulu|         2060.1|                                1.4|               0.75|                              102|                       104.6|\n",
            "|             Lampung|         9176.6|                               1.07|               3.33|                              273|                       104.9|\n",
            "|Kepulauan Bangka ...|         1494.6|                               1.52|               0.54|                               90|                       105.6|\n",
            "|      Kepulauan Riau|         2179.8|                               3.15|               0.79|                              264|                       104.2|\n",
            "+--------------------+---------------+-----------------------------------+-------------------+---------------------------------+----------------------------+\n",
            "only showing top 10 rows\n",
            "\n"
          ]
        }
      ],
      "source": [
        "# load BPS data\n",
        "bps_data = spark.read.csv(bps_path, header=True)\n",
        "bps_data.show(10)"
      ]
    },
    {
      "cell_type": "markdown",
      "metadata": {
        "id": "dHGVDOUYwzC4"
      },
      "source": [
        "## Earthquake Data Processing"
      ]
    },
    {
      "cell_type": "code",
      "execution_count": 6,
      "metadata": {
        "colab": {
          "base_uri": "https://localhost:8080/"
        },
        "id": "ZmJ2HdrhwEGQ",
        "outputId": "bd78c860-ca85-4f48-9bee-50102086e16c"
      },
      "outputs": [
        {
          "name": "stdout",
          "output_type": "stream",
          "text": [
            "+----------+------------+-----+------+-----+---+--------------------+\n",
            "|       tgl|          ot|  lat|   lon|depth|mag|              remark|\n",
            "+----------+------------+-----+------+-----+---+--------------------+\n",
            "|2008/11/01|21:02:43.058|-9.18|119.06|   10|4.9|Sumba Region - In...|\n",
            "|2008/11/01|20:58:50.248|-6.55|129.64|   10|4.6|           Banda Sea|\n",
            "|2008/11/01|17:43:12.941|-7.01|106.63|  121|3.7|    Java - Indonesia|\n",
            "|2008/11/01|16:24:14.755|-3.30|127.85|   10|3.2|   Seram - Indonesia|\n",
            "|2008/11/01|16:20:37.327|-6.41|129.54|   70|4.3|           Banda Sea|\n",
            "|2008/11/01|14:47:00.029|-7.37|105.31|   18|3.3|    Java - Indonesia|\n",
            "|2008/11/01|13:04:38.742| 0.10| 98.55|   12|4.7|Northern Sumatra ...|\n",
            "|2008/11/01|10:23:51.646|-7.07|129.67|  135|4.8|           Banda Sea|\n",
            "|2008/11/01|09:50:32.503|-3.32|128.02|   10|2.3|   Seram - Indonesia|\n",
            "|2008/11/01|06:50:52.220|-4.43|127.45|   10|3.2|           Banda Sea|\n",
            "+----------+------------+-----+------+-----+---+--------------------+\n",
            "only showing top 10 rows\n",
            "\n"
          ]
        }
      ],
      "source": [
        "# processing data gempa\n",
        "col_to_drop = [\"strike1\", \"dip1\", \"rake1\", \"strike2\", \"dip2\", \"rake2\"]\n",
        "earthquake_data = earthquake_data.drop(*col_to_drop)\n",
        "earthquake_data.show(10)"
      ]
    },
    {
      "cell_type": "markdown",
      "metadata": {},
      "source": [
        "# Manual Geocoder\n"
      ]
    },
    {
      "cell_type": "code",
      "execution_count": 8,
      "metadata": {},
      "outputs": [],
      "source": [
        "# manual geocoder\n",
        "# datasource: https://gadm.org/download_country.html#google_vignette\n",
        "import geopandas as gpd\n",
        "\n",
        "gadm = gpd.read_file(r'D:\\nieru\\project\\big-data\\gadm\\gadm41_IDN_4.json')\n"
      ]
    },
    {
      "cell_type": "code",
      "execution_count": 9,
      "metadata": {},
      "outputs": [],
      "source": [
        "from shapely.geometry import Point\n",
        "from pyspark.sql.functions import udf\n",
        "from pyspark.sql.types import StringType\n",
        "\n",
        "def is_in_province(latitude, longitude, province_geometry, buffer_distance=0.1):\n",
        "    point = Point(longitude, latitude)\n",
        "    buffered_geometry = province_geometry.buffer(buffer_distance)  # Buffering geometri provinsi\n",
        "    return buffered_geometry.contains(point)\n",
        "\n",
        "def reverse_geocode_with_buffer(lat, lon, gadm_data, buffer_size=0.01):\n",
        "    point = Point(lon, lat).buffer(buffer_size)\n",
        "    for _, row in gadm_data.iterrows():\n",
        "        if row['geometry'].intersects(point):\n",
        "            return row['NAME_1']\n",
        "    return None\n",
        "\n",
        "def reverse_geocoder_with_buffer(latitude, longitude, buffer=0.01):\n",
        "    point = Point(longitude, latitude).buffer(buffer)\n",
        "    print(point)\n",
        "    \n",
        "    for _, row in gadm.iterrows():\n",
        "        if row['geometry'].intersects(point):\n",
        "            return row['NAME_1']\n",
        "    \n",
        "    return None\n",
        "\n",
        "def reverse_geocoder(latitude, longitude):\n",
        "    point = Point(longitude, latitude)\n",
        "    print(point)\n",
        "    \n",
        "    for _, row in gadm.iterrows():\n",
        "        if is_in_province(latitude, longitude, row['geometry'], buffer_distance=0.5):\n",
        "            return row['NAME_1']\n",
        "    \n",
        "    return None\n",
        "\n",
        "def reverse_geocoder_ind(latitude, longitude):\n",
        "    point = Point(longitude, latitude)\n",
        "    \n",
        "    for _, row in indo_prov_geojson.iterrows():\n",
        "      \n",
        "        if row['geometry'].contains(point):\n",
        "            return row['Propinsi']\n",
        "    \n",
        "    return None\n",
        "\n",
        "\n",
        "get_province_udf = udf(lambda lat, lon: reverse_geocoder_with_buffer(lat, lon, 0.8), StringType())# define user defined function"
      ]
    },
    {
      "cell_type": "code",
      "execution_count": null,
      "metadata": {},
      "outputs": [],
      "source": []
    },
    {
      "cell_type": "code",
      "execution_count": null,
      "metadata": {},
      "outputs": [
        {
          "name": "stdout",
          "output_type": "stream",
          "text": [
            "Province: JAWA BARAT\n"
          ]
        }
      ],
      "source": [
        "latitude =  -7.01 # Jakarta's latitude\n",
        "longitude = 106.63 # Jakarta's longitude\n",
        "# -3.76|127.38\n",
        "# -9.18|119.06\n",
        "#  0.10| 98.55|\n",
        "\n",
        "-3.76,127.38\n",
        "province_name = reverse_geocoder_ind(latitude, longitude)\n",
        "\n",
        "if province_name:\n",
        "    print(f\"Province: {province_name}\")\n",
        "else:\n",
        "    print(\"Location not found in dataset.\")\n",
        "    "
      ]
    },
    {
      "cell_type": "code",
      "execution_count": 10,
      "metadata": {},
      "outputs": [],
      "source": [
        "sampleEarthquakeData = earthquake_data.limit(5000)"
      ]
    },
    {
      "cell_type": "code",
      "execution_count": 11,
      "metadata": {},
      "outputs": [
        {
          "name": "stdout",
          "output_type": "stream",
          "text": [
            "+----------+------------+-----+------+-----+---+--------------------+-----------------+\n",
            "|       tgl|          ot|  lat|   lon|depth|mag|              remark|         province|\n",
            "+----------+------------+-----+------+-----+---+--------------------+-----------------+\n",
            "|2008/11/01|21:02:43.058|-9.18|119.06|   10|4.9|Sumba Region - In...|NusaTenggaraBarat|\n",
            "|2008/11/01|20:58:50.248|-6.55|129.64|   10|4.6|           Banda Sea|             null|\n",
            "|2008/11/01|17:43:12.941|-7.01|106.63|  121|3.7|    Java - Indonesia|           Banten|\n",
            "|2008/11/01|16:24:14.755|-3.30|127.85|   10|3.2|   Seram - Indonesia|           Maluku|\n",
            "|2008/11/01|16:20:37.327|-6.41|129.54|   70|4.3|           Banda Sea|             null|\n",
            "|2008/11/01|14:47:00.029|-7.37|105.31|   18|3.3|    Java - Indonesia|           Banten|\n",
            "|2008/11/01|13:04:38.742| 0.10| 98.55|   12|4.7|Northern Sumatra ...|    SumateraBarat|\n",
            "|2008/11/01|10:23:51.646|-7.07|129.67|  135|4.8|           Banda Sea|           Maluku|\n",
            "|2008/11/01|09:50:32.503|-3.32|128.02|   10|2.3|   Seram - Indonesia|           Maluku|\n",
            "|2008/11/01|06:50:52.220|-4.43|127.45|   10|3.2|           Banda Sea|           Maluku|\n",
            "|2008/11/01|06:42:18.915|-3.94|127.45|    9|2.6|   Seram - Indonesia|           Maluku|\n",
            "|2008/11/01|06:23:00.287|-3.43|128.39|   10|2.3|   Seram - Indonesia|           Maluku|\n",
            "|2008/11/01|06:01:05.398|-4.26|127.66|   10|3.2|           Banda Sea|           Maluku|\n",
            "|2008/11/01|04:26:50.151| 0.49| 98.33|   16|3.9|Northern Sumatra ...|    SumateraUtara|\n",
            "|2008/11/01|03:34:47.510|-3.89|128.24|   10|2.2|   Seram - Indonesia|           Maluku|\n",
            "|2008/11/01|03:24:09.020|-3.76|127.38|   10|2.9|   Seram - Indonesia|           Maluku|\n",
            "|2008/11/01|02:32:18.756|-4.09|128.20|   10|2.4|           Banda Sea|           Maluku|\n",
            "|2008/11/01|02:20:05.909|-4.20|128.10|    5|2.4|           Banda Sea|           Maluku|\n",
            "|2008/11/01|01:38:14.802|-3.65|127.99|    5|3.5|   Seram - Indonesia|           Maluku|\n",
            "|2008/11/01|01:34:29.660|-6.61|129.39|   30|5.5|           Banda Sea|             null|\n",
            "+----------+------------+-----+------+-----+---+--------------------+-----------------+\n",
            "only showing top 20 rows\n",
            "\n"
          ]
        }
      ],
      "source": [
        "sampleEarthquakeData = earthquake_data.withColumn('province', get_province_udf(earthquake_data['lat'], earthquake_data['lon']))\n",
        "sampleEarthquakeData.show()"
      ]
    },
    {
      "cell_type": "code",
      "execution_count": null,
      "metadata": {},
      "outputs": [],
      "source": [
        "# earthquake_data = earthquake_data.withColumn('province', get_province_udf(earthquake_data['lat'], earthquake_data['lon']))\n",
        "# earthquake_data.show(100)"
      ]
    },
    {
      "cell_type": "code",
      "execution_count": 12,
      "metadata": {},
      "outputs": [],
      "source": [
        "earthquake_data_cpy = sampleEarthquakeData"
      ]
    },
    {
      "cell_type": "code",
      "execution_count": null,
      "metadata": {},
      "outputs": [],
      "source": [
        "# from pyspark.sql.functions import col, sum as sum_\n",
        "# # check nll \n",
        "# null_counts = earthquake_data_cpy.select([sum_(col('province').isNull().cast(\"int\")).alias(c) for c in earthquake_data_cpy.columns])\n",
        "\n",
        "# # Show result\n",
        "# null_counts.show()"
      ]
    },
    {
      "cell_type": "code",
      "execution_count": 13,
      "metadata": {},
      "outputs": [],
      "source": [
        "# null_count = earthquake_data_cpy.filter(earthquake_data_cpy['province'].isNull()).count()\n",
        "\n",
        "# print(null_count)"
      ]
    },
    {
      "cell_type": "code",
      "execution_count": null,
      "metadata": {},
      "outputs": [],
      "source": [
        "#export to csv\n",
        "# earthquake_data_cpy.toPandas().to_csv(\"gempa_catalogue_with_province.csv\", index=False)"
      ]
    },
    {
      "cell_type": "code",
      "execution_count": null,
      "metadata": {},
      "outputs": [],
      "source": []
    }
  ],
  "metadata": {
    "colab": {
      "collapsed_sections": [
        "3sFJLRtNtjg-"
      ],
      "provenance": []
    },
    "kernelspec": {
      "display_name": "Python 3",
      "name": "python3"
    },
    "language_info": {
      "codemirror_mode": {
        "name": "ipython",
        "version": 3
      },
      "file_extension": ".py",
      "mimetype": "text/x-python",
      "name": "python",
      "nbconvert_exporter": "python",
      "pygments_lexer": "ipython3",
      "version": "3.9.19"
    }
  },
  "nbformat": 4,
  "nbformat_minor": 0
}
